{
 "cells": [
  {
   "cell_type": "code",
   "execution_count": 39,
   "id": "21103a15-4f96-4ecb-98c5-db4d16e7bf0a",
   "metadata": {},
   "outputs": [],
   "source": [
    "import pandas as pd\n",
    "from datetime import datetime"
   ]
  },
  {
   "cell_type": "code",
   "execution_count": 41,
   "id": "96f39a30-9d57-46c5-9a68-9d15bcbb78d8",
   "metadata": {},
   "outputs": [],
   "source": [
    "df = pd.read_csv(r\"C:\\Rahul Data\\Project 2\\Data\\Daily Transaction\\Daily Household Transactions.csv\")"
   ]
  },
  {
   "cell_type": "code",
   "execution_count": 43,
   "id": "8c303b57-977d-4ed9-b9b7-d0d4b0fee9d3",
   "metadata": {},
   "outputs": [
    {
     "data": {
      "text/html": [
       "<div>\n",
       "<style scoped>\n",
       "    .dataframe tbody tr th:only-of-type {\n",
       "        vertical-align: middle;\n",
       "    }\n",
       "\n",
       "    .dataframe tbody tr th {\n",
       "        vertical-align: top;\n",
       "    }\n",
       "\n",
       "    .dataframe thead th {\n",
       "        text-align: right;\n",
       "    }\n",
       "</style>\n",
       "<table border=\"1\" class=\"dataframe\">\n",
       "  <thead>\n",
       "    <tr style=\"text-align: right;\">\n",
       "      <th></th>\n",
       "      <th>Date</th>\n",
       "      <th>Mode</th>\n",
       "      <th>Category</th>\n",
       "      <th>Subcategory</th>\n",
       "      <th>Note</th>\n",
       "      <th>Amount</th>\n",
       "      <th>Income/Expense</th>\n",
       "      <th>Currency</th>\n",
       "    </tr>\n",
       "  </thead>\n",
       "  <tbody>\n",
       "    <tr>\n",
       "      <th>0</th>\n",
       "      <td>20/09/2018 12:04:08</td>\n",
       "      <td>Cash</td>\n",
       "      <td>Transportation</td>\n",
       "      <td>Train</td>\n",
       "      <td>2 Place 5 to Place 0</td>\n",
       "      <td>30.0</td>\n",
       "      <td>Expense</td>\n",
       "      <td>INR</td>\n",
       "    </tr>\n",
       "    <tr>\n",
       "      <th>1</th>\n",
       "      <td>20/09/2018 12:03:15</td>\n",
       "      <td>Cash</td>\n",
       "      <td>Food</td>\n",
       "      <td>snacks</td>\n",
       "      <td>Idli medu Vada mix 2 plates</td>\n",
       "      <td>60.0</td>\n",
       "      <td>Expense</td>\n",
       "      <td>INR</td>\n",
       "    </tr>\n",
       "    <tr>\n",
       "      <th>2</th>\n",
       "      <td>19/09/2018</td>\n",
       "      <td>Saving Bank account 1</td>\n",
       "      <td>subscription</td>\n",
       "      <td>Netflix</td>\n",
       "      <td>1 month subscription</td>\n",
       "      <td>199.0</td>\n",
       "      <td>Expense</td>\n",
       "      <td>INR</td>\n",
       "    </tr>\n",
       "    <tr>\n",
       "      <th>3</th>\n",
       "      <td>17/09/2018 23:41:17</td>\n",
       "      <td>Saving Bank account 1</td>\n",
       "      <td>subscription</td>\n",
       "      <td>Mobile Service Provider</td>\n",
       "      <td>Data booster pack</td>\n",
       "      <td>19.0</td>\n",
       "      <td>Expense</td>\n",
       "      <td>INR</td>\n",
       "    </tr>\n",
       "    <tr>\n",
       "      <th>4</th>\n",
       "      <td>16/09/2018 17:15:08</td>\n",
       "      <td>Cash</td>\n",
       "      <td>Festivals</td>\n",
       "      <td>Ganesh Pujan</td>\n",
       "      <td>Ganesh idol</td>\n",
       "      <td>251.0</td>\n",
       "      <td>Expense</td>\n",
       "      <td>INR</td>\n",
       "    </tr>\n",
       "  </tbody>\n",
       "</table>\n",
       "</div>"
      ],
      "text/plain": [
       "                  Date                   Mode        Category  \\\n",
       "0  20/09/2018 12:04:08                   Cash  Transportation   \n",
       "1  20/09/2018 12:03:15                   Cash            Food   \n",
       "2           19/09/2018  Saving Bank account 1    subscription   \n",
       "3  17/09/2018 23:41:17  Saving Bank account 1    subscription   \n",
       "4  16/09/2018 17:15:08                   Cash       Festivals   \n",
       "\n",
       "               Subcategory                         Note  Amount  \\\n",
       "0                    Train         2 Place 5 to Place 0    30.0   \n",
       "1                   snacks  Idli medu Vada mix 2 plates    60.0   \n",
       "2                  Netflix         1 month subscription   199.0   \n",
       "3  Mobile Service Provider            Data booster pack    19.0   \n",
       "4             Ganesh Pujan                  Ganesh idol   251.0   \n",
       "\n",
       "  Income/Expense Currency  \n",
       "0        Expense      INR  \n",
       "1        Expense      INR  \n",
       "2        Expense      INR  \n",
       "3        Expense      INR  \n",
       "4        Expense      INR  "
      ]
     },
     "execution_count": 43,
     "metadata": {},
     "output_type": "execute_result"
    }
   ],
   "source": [
    "df.head()"
   ]
  },
  {
   "cell_type": "code",
   "execution_count": 45,
   "id": "76d431db-9cc9-4dd8-8b25-c4b9e5ea0fa6",
   "metadata": {},
   "outputs": [
    {
     "data": {
      "text/plain": [
       "Date                0\n",
       "Mode                0\n",
       "Category            0\n",
       "Subcategory       635\n",
       "Note              521\n",
       "Amount              0\n",
       "Income/Expense      0\n",
       "Currency            0\n",
       "dtype: int64"
      ]
     },
     "execution_count": 45,
     "metadata": {},
     "output_type": "execute_result"
    }
   ],
   "source": [
    "# check missing value\n",
    "df.isnull().sum()"
   ]
  },
  {
   "cell_type": "code",
   "execution_count": 47,
   "id": "884ecce2-d884-476e-88bc-c4359f2c2f24",
   "metadata": {},
   "outputs": [],
   "source": [
    "# filling the missing value\n",
    "df.fillna(\"unknown\",inplace = True)"
   ]
  },
  {
   "cell_type": "code",
   "execution_count": 49,
   "id": "2623c207-066a-4870-ac50-4fec9c690cb9",
   "metadata": {},
   "outputs": [
    {
     "data": {
      "text/plain": [
       "Date              0\n",
       "Mode              0\n",
       "Category          0\n",
       "Subcategory       0\n",
       "Note              0\n",
       "Amount            0\n",
       "Income/Expense    0\n",
       "Currency          0\n",
       "dtype: int64"
      ]
     },
     "execution_count": 49,
     "metadata": {},
     "output_type": "execute_result"
    }
   ],
   "source": [
    "df.isnull().sum()"
   ]
  },
  {
   "cell_type": "code",
   "execution_count": 51,
   "id": "2efd452b-626a-4f5e-afca-44b3edcbd989",
   "metadata": {},
   "outputs": [
    {
     "data": {
      "text/html": [
       "<div>\n",
       "<style scoped>\n",
       "    .dataframe tbody tr th:only-of-type {\n",
       "        vertical-align: middle;\n",
       "    }\n",
       "\n",
       "    .dataframe tbody tr th {\n",
       "        vertical-align: top;\n",
       "    }\n",
       "\n",
       "    .dataframe thead th {\n",
       "        text-align: right;\n",
       "    }\n",
       "</style>\n",
       "<table border=\"1\" class=\"dataframe\">\n",
       "  <thead>\n",
       "    <tr style=\"text-align: right;\">\n",
       "      <th></th>\n",
       "      <th>Amount</th>\n",
       "    </tr>\n",
       "  </thead>\n",
       "  <tbody>\n",
       "    <tr>\n",
       "      <th>count</th>\n",
       "      <td>2461.000000</td>\n",
       "    </tr>\n",
       "    <tr>\n",
       "      <th>mean</th>\n",
       "      <td>2751.145380</td>\n",
       "    </tr>\n",
       "    <tr>\n",
       "      <th>std</th>\n",
       "      <td>12519.615804</td>\n",
       "    </tr>\n",
       "    <tr>\n",
       "      <th>min</th>\n",
       "      <td>2.000000</td>\n",
       "    </tr>\n",
       "    <tr>\n",
       "      <th>25%</th>\n",
       "      <td>35.000000</td>\n",
       "    </tr>\n",
       "    <tr>\n",
       "      <th>50%</th>\n",
       "      <td>100.000000</td>\n",
       "    </tr>\n",
       "    <tr>\n",
       "      <th>75%</th>\n",
       "      <td>799.000000</td>\n",
       "    </tr>\n",
       "    <tr>\n",
       "      <th>max</th>\n",
       "      <td>250000.000000</td>\n",
       "    </tr>\n",
       "  </tbody>\n",
       "</table>\n",
       "</div>"
      ],
      "text/plain": [
       "              Amount\n",
       "count    2461.000000\n",
       "mean     2751.145380\n",
       "std     12519.615804\n",
       "min         2.000000\n",
       "25%        35.000000\n",
       "50%       100.000000\n",
       "75%       799.000000\n",
       "max    250000.000000"
      ]
     },
     "execution_count": 51,
     "metadata": {},
     "output_type": "execute_result"
    }
   ],
   "source": [
    "#summary statistics for numerical data\n",
    "df.describe()"
   ]
  },
  {
   "cell_type": "code",
   "execution_count": 53,
   "id": "59600801-07ca-4e36-a410-f91d2b74387e",
   "metadata": {},
   "outputs": [
    {
     "data": {
      "text/html": [
       "<div>\n",
       "<style scoped>\n",
       "    .dataframe tbody tr th:only-of-type {\n",
       "        vertical-align: middle;\n",
       "    }\n",
       "\n",
       "    .dataframe tbody tr th {\n",
       "        vertical-align: top;\n",
       "    }\n",
       "\n",
       "    .dataframe thead th {\n",
       "        text-align: right;\n",
       "    }\n",
       "</style>\n",
       "<table border=\"1\" class=\"dataframe\">\n",
       "  <thead>\n",
       "    <tr style=\"text-align: right;\">\n",
       "      <th></th>\n",
       "      <th>Date</th>\n",
       "      <th>Mode</th>\n",
       "      <th>Category</th>\n",
       "      <th>Subcategory</th>\n",
       "      <th>Note</th>\n",
       "      <th>Amount</th>\n",
       "      <th>Income/Expense</th>\n",
       "      <th>Currency</th>\n",
       "    </tr>\n",
       "  </thead>\n",
       "  <tbody>\n",
       "    <tr>\n",
       "      <th>0</th>\n",
       "      <td>20/09/2018 12:04:08</td>\n",
       "      <td>Cash</td>\n",
       "      <td>Transportation</td>\n",
       "      <td>Train</td>\n",
       "      <td>2 Place 5 to Place 0</td>\n",
       "      <td>30.0</td>\n",
       "      <td>Expense</td>\n",
       "      <td>INR</td>\n",
       "    </tr>\n",
       "    <tr>\n",
       "      <th>1</th>\n",
       "      <td>20/09/2018 12:03:15</td>\n",
       "      <td>Cash</td>\n",
       "      <td>Food</td>\n",
       "      <td>snacks</td>\n",
       "      <td>Idli medu Vada mix 2 plates</td>\n",
       "      <td>60.0</td>\n",
       "      <td>Expense</td>\n",
       "      <td>INR</td>\n",
       "    </tr>\n",
       "    <tr>\n",
       "      <th>2</th>\n",
       "      <td>19/09/2018</td>\n",
       "      <td>Saving Bank account 1</td>\n",
       "      <td>subscription</td>\n",
       "      <td>Netflix</td>\n",
       "      <td>1 month subscription</td>\n",
       "      <td>199.0</td>\n",
       "      <td>Expense</td>\n",
       "      <td>INR</td>\n",
       "    </tr>\n",
       "    <tr>\n",
       "      <th>3</th>\n",
       "      <td>17/09/2018 23:41:17</td>\n",
       "      <td>Saving Bank account 1</td>\n",
       "      <td>subscription</td>\n",
       "      <td>Mobile Service Provider</td>\n",
       "      <td>Data booster pack</td>\n",
       "      <td>19.0</td>\n",
       "      <td>Expense</td>\n",
       "      <td>INR</td>\n",
       "    </tr>\n",
       "    <tr>\n",
       "      <th>4</th>\n",
       "      <td>16/09/2018 17:15:08</td>\n",
       "      <td>Cash</td>\n",
       "      <td>Festivals</td>\n",
       "      <td>Ganesh Pujan</td>\n",
       "      <td>Ganesh idol</td>\n",
       "      <td>251.0</td>\n",
       "      <td>Expense</td>\n",
       "      <td>INR</td>\n",
       "    </tr>\n",
       "    <tr>\n",
       "      <th>5</th>\n",
       "      <td>15/09/2018 06:34:17</td>\n",
       "      <td>Credit Card</td>\n",
       "      <td>subscription</td>\n",
       "      <td>Tata Sky</td>\n",
       "      <td>Permanent Residence - Tata Play recharge</td>\n",
       "      <td>200.0</td>\n",
       "      <td>Expense</td>\n",
       "      <td>INR</td>\n",
       "    </tr>\n",
       "    <tr>\n",
       "      <th>6</th>\n",
       "      <td>14/09/2018 05:39:17</td>\n",
       "      <td>Cash</td>\n",
       "      <td>Transportation</td>\n",
       "      <td>auto</td>\n",
       "      <td>Place 2 station to Permanent Residence</td>\n",
       "      <td>50.0</td>\n",
       "      <td>Expense</td>\n",
       "      <td>INR</td>\n",
       "    </tr>\n",
       "    <tr>\n",
       "      <th>7</th>\n",
       "      <td>13/09/2018 21:35:15</td>\n",
       "      <td>Saving Bank account 1</td>\n",
       "      <td>Transportation</td>\n",
       "      <td>Train</td>\n",
       "      <td>2 Place 0 to Place 3</td>\n",
       "      <td>40.0</td>\n",
       "      <td>Expense</td>\n",
       "      <td>INR</td>\n",
       "    </tr>\n",
       "    <tr>\n",
       "      <th>8</th>\n",
       "      <td>13/09/2018 21:01:47</td>\n",
       "      <td>Credit Card</td>\n",
       "      <td>Other</td>\n",
       "      <td>unknown</td>\n",
       "      <td>HBR 2 Months subscription</td>\n",
       "      <td>83.0</td>\n",
       "      <td>Expense</td>\n",
       "      <td>INR</td>\n",
       "    </tr>\n",
       "    <tr>\n",
       "      <th>9</th>\n",
       "      <td>13/09/2018 21:01:32</td>\n",
       "      <td>Cash</td>\n",
       "      <td>Food</td>\n",
       "      <td>Grocery</td>\n",
       "      <td>1kg atta</td>\n",
       "      <td>46.0</td>\n",
       "      <td>Expense</td>\n",
       "      <td>INR</td>\n",
       "    </tr>\n",
       "  </tbody>\n",
       "</table>\n",
       "</div>"
      ],
      "text/plain": [
       "                  Date                   Mode        Category  \\\n",
       "0  20/09/2018 12:04:08                   Cash  Transportation   \n",
       "1  20/09/2018 12:03:15                   Cash            Food   \n",
       "2           19/09/2018  Saving Bank account 1    subscription   \n",
       "3  17/09/2018 23:41:17  Saving Bank account 1    subscription   \n",
       "4  16/09/2018 17:15:08                   Cash       Festivals   \n",
       "5  15/09/2018 06:34:17            Credit Card    subscription   \n",
       "6  14/09/2018 05:39:17                   Cash  Transportation   \n",
       "7  13/09/2018 21:35:15  Saving Bank account 1  Transportation   \n",
       "8  13/09/2018 21:01:47            Credit Card           Other   \n",
       "9  13/09/2018 21:01:32                   Cash            Food   \n",
       "\n",
       "               Subcategory                                      Note  Amount  \\\n",
       "0                    Train                      2 Place 5 to Place 0    30.0   \n",
       "1                   snacks               Idli medu Vada mix 2 plates    60.0   \n",
       "2                  Netflix                      1 month subscription   199.0   \n",
       "3  Mobile Service Provider                         Data booster pack    19.0   \n",
       "4             Ganesh Pujan                               Ganesh idol   251.0   \n",
       "5                 Tata Sky  Permanent Residence - Tata Play recharge   200.0   \n",
       "6                     auto    Place 2 station to Permanent Residence    50.0   \n",
       "7                    Train                      2 Place 0 to Place 3    40.0   \n",
       "8                  unknown                 HBR 2 Months subscription    83.0   \n",
       "9                  Grocery                                  1kg atta    46.0   \n",
       "\n",
       "  Income/Expense Currency  \n",
       "0        Expense      INR  \n",
       "1        Expense      INR  \n",
       "2        Expense      INR  \n",
       "3        Expense      INR  \n",
       "4        Expense      INR  \n",
       "5        Expense      INR  \n",
       "6        Expense      INR  \n",
       "7        Expense      INR  \n",
       "8        Expense      INR  \n",
       "9        Expense      INR  "
      ]
     },
     "execution_count": 53,
     "metadata": {},
     "output_type": "execute_result"
    }
   ],
   "source": [
    "df.head(10)"
   ]
  },
  {
   "cell_type": "code",
   "execution_count": 55,
   "id": "46b7a2c6-ac3f-4a9a-af6e-356b53445471",
   "metadata": {},
   "outputs": [
    {
     "name": "stdout",
     "output_type": "stream",
     "text": [
      "Date               object\n",
      "Mode               object\n",
      "Category           object\n",
      "Subcategory        object\n",
      "Note               object\n",
      "Amount            float64\n",
      "Income/Expense     object\n",
      "Currency           object\n",
      "dtype: object\n"
     ]
    }
   ],
   "source": [
    "print(df.dtypes)"
   ]
  },
  {
   "cell_type": "code",
   "execution_count": 57,
   "id": "e4522e7f-7a9d-4c0e-ace5-ffb3f77d68cc",
   "metadata": {},
   "outputs": [
    {
     "name": "stdout",
     "output_type": "stream",
     "text": [
      "0       20/09/2018 12:04:08\n",
      "1       20/09/2018 12:03:15\n",
      "2                19/09/2018\n",
      "3       17/09/2018 23:41:17\n",
      "4       16/09/2018 17:15:08\n",
      "               ...         \n",
      "2456               1/1/2015\n",
      "2457               1/1/2015\n",
      "2458               1/1/2015\n",
      "2459               1/1/2015\n",
      "2460               1/1/2015\n",
      "Name: Date, Length: 2461, dtype: object\n"
     ]
    }
   ],
   "source": [
    "print(df['Date'])"
   ]
  },
  {
   "cell_type": "code",
   "execution_count": 64,
   "id": "e2d0fc98-a2e7-45f8-b26b-8d7ef12f5518",
   "metadata": {},
   "outputs": [],
   "source": [
    "df['Date'] = df['Date'].astype(str).str.strip()\n",
    "df['Date'] = df['Date'].apply(lambda x: x if ':' in x else x + ' 00:00:00')"
   ]
  },
  {
   "cell_type": "code",
   "execution_count": 70,
   "id": "ddf81513-6c7f-4cac-8b72-feddd922547b",
   "metadata": {},
   "outputs": [
    {
     "name": "stdout",
     "output_type": "stream",
     "text": [
      "0      2018-09-20 12:04:08\n",
      "1      2018-09-20 12:03:15\n",
      "2      2018-09-19 00:00:00\n",
      "3      2018-09-17 23:41:17\n",
      "4      2018-09-16 17:15:08\n",
      "               ...        \n",
      "2456   2015-01-01 00:00:00\n",
      "2457   2015-01-01 00:00:00\n",
      "2458   2015-01-01 00:00:00\n",
      "2459   2015-01-01 00:00:00\n",
      "2460   2015-01-01 00:00:00\n",
      "Name: Date, Length: 2461, dtype: datetime64[ns]\n"
     ]
    }
   ],
   "source": [
    "print(df['Date'])"
   ]
  },
  {
   "cell_type": "code",
   "execution_count": 68,
   "id": "9dcd60aa-846d-48fc-802a-a777230a5748",
   "metadata": {},
   "outputs": [],
   "source": [
    "df['Date'] = pd.to_datetime(df['Date'], format='%d/%m/%Y %H:%M:%S', errors='coerce')"
   ]
  },
  {
   "cell_type": "code",
   "execution_count": 74,
   "id": "974dcf39-c5d3-4a45-94a7-8d912bc89206",
   "metadata": {},
   "outputs": [
    {
     "name": "stdout",
     "output_type": "stream",
     "text": [
      "0    2018-09-20\n",
      "1    2018-09-20\n",
      "2    2018-09-19\n",
      "3    2018-09-17\n",
      "4    2018-09-16\n",
      "5    2018-09-15\n",
      "6    2018-09-14\n",
      "7    2018-09-13\n",
      "8    2018-09-13\n",
      "9    2018-09-13\n",
      "Name: Date, dtype: object\n"
     ]
    }
   ],
   "source": [
    "df['Date'] = df['Date'].dt.date \n",
    "print(df['Date'].head(10))"
   ]
  },
  {
   "cell_type": "code",
   "execution_count": 76,
   "id": "00b51840-09be-4e67-a876-2fe9021fe3e1",
   "metadata": {},
   "outputs": [],
   "source": [
    "df['Date'] = pd.to_datetime(df['Date'], dayfirst =True,errors='coerce')"
   ]
  },
  {
   "cell_type": "code",
   "execution_count": 78,
   "id": "fa8a9dbd-435c-4f30-9d3c-ad39d448a2ea",
   "metadata": {},
   "outputs": [
    {
     "name": "stdout",
     "output_type": "stream",
     "text": [
      "Empty DataFrame\n",
      "Columns: [Date, Mode, Category, Subcategory, Note, Amount, Income/Expense, Currency]\n",
      "Index: []\n"
     ]
    }
   ],
   "source": [
    "print(df[df['Date'].isna()])"
   ]
  },
  {
   "cell_type": "code",
   "execution_count": 80,
   "id": "dc1bfd39-392d-4017-bd3d-ede6dd76f79a",
   "metadata": {},
   "outputs": [],
   "source": [
    "df['Date'] = df['Date'].dt.date"
   ]
  },
  {
   "cell_type": "code",
   "execution_count": 82,
   "id": "fc554afc-1739-436c-b4d8-362c3c25de30",
   "metadata": {},
   "outputs": [
    {
     "name": "stdout",
     "output_type": "stream",
     "text": [
      "Date               object\n",
      "Mode               object\n",
      "Category           object\n",
      "Subcategory        object\n",
      "Note               object\n",
      "Amount            float64\n",
      "Income/Expense     object\n",
      "Currency           object\n",
      "dtype: object\n",
      "          Date                   Mode              Category  \\\n",
      "0   2018-09-20                   Cash        Transportation   \n",
      "1   2018-09-20                   Cash                  Food   \n",
      "2   2018-09-19  Saving Bank account 1          subscription   \n",
      "3   2018-09-17  Saving Bank account 1          subscription   \n",
      "4   2018-09-16                   Cash             Festivals   \n",
      "5   2018-09-15            Credit Card          subscription   \n",
      "6   2018-09-14                   Cash        Transportation   \n",
      "7   2018-09-13  Saving Bank account 1        Transportation   \n",
      "8   2018-09-13            Credit Card                 Other   \n",
      "9   2018-09-13                   Cash                  Food   \n",
      "10  2018-09-13  Saving Bank account 1      Small Cap fund 2   \n",
      "11  2018-09-13  Saving Bank account 1      Small cap fund 1   \n",
      "12  2018-09-12            Credit Card          subscription   \n",
      "13  2018-09-11  Saving Bank account 1                  Food   \n",
      "14  2018-09-11  Saving Bank account 1                 Other   \n",
      "15  2018-09-11                   Cash                  Food   \n",
      "16  2018-09-10                   Cash                  Food   \n",
      "17  2018-09-08                   Cash                Family   \n",
      "18  2018-09-07                   Cash                  Food   \n",
      "19  2018-09-07  Saving Bank account 1  Equity Mutual Fund E   \n",
      "\n",
      "                Subcategory                                      Note  Amount  \\\n",
      "0                     Train                      2 Place 5 to Place 0    30.0   \n",
      "1                    snacks               Idli medu Vada mix 2 plates    60.0   \n",
      "2                   Netflix                      1 month subscription   199.0   \n",
      "3   Mobile Service Provider                         Data booster pack    19.0   \n",
      "4              Ganesh Pujan                               Ganesh idol   251.0   \n",
      "5                  Tata Sky  Permanent Residence - Tata Play recharge   200.0   \n",
      "6                      auto    Place 2 station to Permanent Residence    50.0   \n",
      "7                     Train                      2 Place 0 to Place 3    40.0   \n",
      "8                   unknown                 HBR 2 Months subscription    83.0   \n",
      "9                   Grocery                                  1kg atta    46.0   \n",
      "10                  unknown                                   unknown  5000.0   \n",
      "11                  unknown                                   unknown  5000.0   \n",
      "12  Mobile Service Provider                         Data booster pack   667.0   \n",
      "13                    Lunch                        Home Food Delivery   650.0   \n",
      "14                  unknown                               From Family  3500.0   \n",
      "15                     Milk                            Half lit  milk    36.0   \n",
      "16                     Milk                            Half lit  milk    36.0   \n",
      "17             Pocket money                                   unknown    40.0   \n",
      "18                     Milk                            Half lit  milk    37.0   \n",
      "19                  unknown                                   unknown  1000.0   \n",
      "\n",
      "   Income/Expense Currency  \n",
      "0         Expense      INR  \n",
      "1         Expense      INR  \n",
      "2         Expense      INR  \n",
      "3         Expense      INR  \n",
      "4         Expense      INR  \n",
      "5         Expense      INR  \n",
      "6         Expense      INR  \n",
      "7         Expense      INR  \n",
      "8         Expense      INR  \n",
      "9         Expense      INR  \n",
      "10   Transfer-Out      INR  \n",
      "11   Transfer-Out      INR  \n",
      "12        Expense      INR  \n",
      "13        Expense      INR  \n",
      "14         Income      INR  \n",
      "15        Expense      INR  \n",
      "16        Expense      INR  \n",
      "17        Expense      INR  \n",
      "18        Expense      INR  \n",
      "19   Transfer-Out      INR  \n"
     ]
    }
   ],
   "source": [
    "print(df.dtypes)\n",
    "print(df.head(20))"
   ]
  },
  {
   "cell_type": "code",
   "execution_count": 86,
   "id": "501b8a7f-f3b8-4e26-b1b9-c6c21cce6da2",
   "metadata": {},
   "outputs": [
    {
     "name": "stdout",
     "output_type": "stream",
     "text": [
      "         Date                   Mode        Category              Subcategory  \\\n",
      "0  2018-09-20                   Cash  Transportation                    Train   \n",
      "1  2018-09-20                   Cash            Food                   snacks   \n",
      "2  2018-09-19  Saving Bank account 1    subscription                  Netflix   \n",
      "3  2018-09-17  Saving Bank account 1    subscription  Mobile Service Provider   \n",
      "4  2018-09-16                   Cash       Festivals             Ganesh Pujan   \n",
      "\n",
      "                          Note  Amount Income/Expense Currency  \n",
      "0         2 Place 5 to Place 0    30.0        Expense      INR  \n",
      "1  Idli medu Vada mix 2 plates    60.0        Expense      INR  \n",
      "2         1 month subscription   199.0        Expense      INR  \n",
      "3            Data booster pack    19.0        Expense      INR  \n",
      "4                  Ganesh idol   251.0        Expense      INR  \n"
     ]
    }
   ],
   "source": [
    "print(df.head())"
   ]
  },
  {
   "cell_type": "code",
   "execution_count": 88,
   "id": "be7df043-1e79-4af9-8957-293326e04301",
   "metadata": {},
   "outputs": [
    {
     "data": {
      "text/plain": [
       "Category\n",
       "Food                         907\n",
       "Transportation               307\n",
       "Household                    176\n",
       "subscription                 143\n",
       "Other                        126\n",
       "Investment                   103\n",
       "Health                        94\n",
       "Family                        71\n",
       "Recurring Deposit             47\n",
       "Apparel                       47\n",
       "Money transfer                43\n",
       "Salary                        43\n",
       "Gift                          30\n",
       "Public Provident Fund         29\n",
       "Equity Mutual Fund E          22\n",
       "Beauty                        22\n",
       "Gpay Reward                   21\n",
       "Education                     18\n",
       "maid                          17\n",
       "Saving Bank account 1         17\n",
       "Festivals                     16\n",
       "Equity Mutual Fund A          14\n",
       "Equity Mutual Fund F          13\n",
       "Interest                      12\n",
       "Dividend earned on Shares     12\n",
       "Culture                       11\n",
       "Small cap fund 1              10\n",
       "Small Cap fund 2              10\n",
       "Share Market                   8\n",
       "Maturity amount                7\n",
       "Life Insurance                 7\n",
       "Bonus                          6\n",
       "Equity Mutual Fund C           6\n",
       "Petty cash                     6\n",
       "Tourism                        5\n",
       "Cook                           4\n",
       "Rent                           4\n",
       "Grooming                       4\n",
       "water (jar /tanker)            3\n",
       "Saving Bank account 2          3\n",
       "garbage disposal               2\n",
       "scrap                          2\n",
       "Fixed Deposit                  2\n",
       "Self-development               2\n",
       "Amazon pay cashback            2\n",
       "Documents                      2\n",
       "Tax refund                     2\n",
       "Equity Mutual Fund B           1\n",
       "Equity Mutual Fund D           1\n",
       "Social Life                    1\n",
       "Name: count, dtype: int64"
      ]
     },
     "execution_count": 88,
     "metadata": {},
     "output_type": "execute_result"
    }
   ],
   "source": [
    "# count of transaction by category\n",
    "df['Category'].value_counts()"
   ]
  },
  {
   "cell_type": "code",
   "execution_count": 90,
   "id": "e04c90c7-e9b8-4c71-89fb-e83d4290a699",
   "metadata": {},
   "outputs": [
    {
     "data": {
      "text/plain": [
       "Category\n",
       "Salary                       2526576.45\n",
       "Money transfer                606528.90\n",
       "Fixed Deposit                 450000.00\n",
       "Maturity amount               382792.00\n",
       "Public Provident Fund         345000.00\n",
       "Share Market                  276161.00\n",
       "Saving Bank account 1         274798.57\n",
       "Investment                    271858.00\n",
       "Other                         170467.28\n",
       "Transportation                169053.78\n",
       "Household                     161645.58\n",
       "subscription                  114587.91\n",
       "Equity Mutual Fund B          100000.00\n",
       "Food                           96403.10\n",
       "Family                         78582.20\n",
       "Life Insurance                 77544.00\n",
       "Equity Mutual Fund E           71000.00\n",
       "Health                         66252.75\n",
       "Tourism                        63608.85\n",
       "Equity Mutual Fund A           63000.00\n",
       "Equity Mutual Fund F           62000.00\n",
       "Small Cap fund 2               50000.00\n",
       "Small cap fund 1               50000.00\n",
       "Recurring Deposit              47000.00\n",
       "Gift                           40168.00\n",
       "Tax refund                     26130.00\n",
       "Apparel                        25373.82\n",
       "maid                           21839.00\n",
       "Petty cash                     13170.00\n",
       "Cook                           12443.00\n",
       "Rent                           10709.00\n",
       "Equity Mutual Fund D           10000.00\n",
       "Festivals                       6911.00\n",
       "Interest                        6004.15\n",
       "Equity Mutual Fund C            6000.00\n",
       "Culture                         4304.36\n",
       "Beauty                          4189.00\n",
       "Bonus                           3026.00\n",
       "Self-development                2357.00\n",
       "Dividend earned on Shares        876.75\n",
       "Education                        537.00\n",
       "Grooming                         400.00\n",
       "Social Life                      298.00\n",
       "Saving Bank account 2            277.33\n",
       "scrap                            220.00\n",
       "water (jar /tanker)              148.00\n",
       "Gpay Reward                      137.00\n",
       "Documents                        100.00\n",
       "garbage disposal                  67.00\n",
       "Amazon pay cashback               23.00\n",
       "Name: Amount, dtype: float64"
      ]
     },
     "execution_count": 90,
     "metadata": {},
     "output_type": "execute_result"
    }
   ],
   "source": [
    "# Total amount spent per category\n",
    "df.groupby('Category')['Amount'].sum().sort_values(ascending = False)"
   ]
  },
  {
   "cell_type": "code",
   "execution_count": 92,
   "id": "36e24924-18e9-470a-b2d0-469652cc309e",
   "metadata": {},
   "outputs": [],
   "source": [
    "# Total amount spent per category\n",
    "top_spending = df[df[\"Income/Expense\"] == \"Expense\"].groupby(\"Category\")[\"Amount\"].sum()"
   ]
  },
  {
   "cell_type": "code",
   "execution_count": 94,
   "id": "8cffc281-9055-4c90-af8a-e99c80aa8f8e",
   "metadata": {},
   "outputs": [
    {
     "data": {
      "text/plain": [
       "Category\n",
       "Money transfer    606528.90\n",
       "Investment        271858.00\n",
       "Transportation    169053.78\n",
       "Household         161645.58\n",
       "subscription      114587.91\n",
       "Name: Amount, dtype: float64"
      ]
     },
     "execution_count": 94,
     "metadata": {},
     "output_type": "execute_result"
    }
   ],
   "source": [
    "top_spending.sort_values(ascending=False).head()"
   ]
  },
  {
   "cell_type": "code",
   "execution_count": 96,
   "id": "e04854f5-b5ee-414b-9225-1a47ca6e2681",
   "metadata": {},
   "outputs": [],
   "source": [
    "import matplotlib.pyplot as plt\n",
    "import seaborn as sns"
   ]
  },
  {
   "cell_type": "code",
   "execution_count": 97,
   "id": "137bbd27-01bd-4437-9cdd-810eb01ce073",
   "metadata": {},
   "outputs": [
    {
     "data": {
      "image/png": "[encoded data removed]",
      "text/plain": [
       "<Figure size 1000x500 with 1 Axes>"
      ]
     },
     "metadata": {},
     "output_type": "display_data"
    }
   ],
   "source": [
    "# convert Date column to datetime\n",
    "df['Date'] = pd.to_datetime(df['Date'],errors = 'coerce')\n",
    "# plot expenses over time\n",
    "plt.figure(figsize=(10,5))\n",
    "df[df['Income/Expense'] == 'Expense'].groupby('Date')['Amount'].sum().plot()\n",
    "plt.xlabel(\"Date\")\n",
    "plt.ylabel(\"Total Expense\")\n",
    "plt.title(\"Daily Expense Over Time\")\n",
    "plt.show()"
   ]
  },
  {
   "cell_type": "code",
   "execution_count": 100,
   "id": "b7785a71-706f-4d5f-878c-d3c5d957c7d2",
   "metadata": {},
   "outputs": [
    {
     "name": "stdout",
     "output_type": "stream",
     "text": [
      "Total Income: Rs 3042397.3499999996\n",
      "Total Expense: Rs 1957390.53\n",
      "Net Savings: Rs 1085006.8199999996\n"
     ]
    }
   ],
   "source": [
    "# Total Income and Expense\n",
    "income = df[df[\"Income/Expense\"] == \"Income\"][\"Amount\"].sum()\n",
    "expense = df[df[\"Income/Expense\"] == \"Expense\"][\"Amount\"].sum()\n",
    "print(f\"Total Income: Rs {income}\")\n",
    "print(f\"Total Expense: Rs {expense}\")\n",
    "print(f\"Net Savings: Rs {income - expense}\")"
   ]
  },
  {
   "cell_type": "code",
   "execution_count": 104,
   "id": "ddcd0197-ea93-4c6f-94a0-92fddccd2c0d",
   "metadata": {},
   "outputs": [],
   "source": [
    "# Create a 'Month' column\n",
    "df['Month'] = pd.to_datetime(df['Date']).dt.to_period('M')"
   ]
  },
  {
   "cell_type": "code",
   "execution_count": 106,
   "id": "2241799d-7b73-4cf5-918c-062480405c26",
   "metadata": {},
   "outputs": [],
   "source": [
    "# Group by Month and Income/Expense\n",
    "monthly_summary = df.groupby(['Month', 'Income/Expense'])['Amount'].sum().unstack().fillna(0)"
   ]
  },
  {
   "cell_type": "code",
   "execution_count": 108,
   "id": "7debf5f2-d9d5-4fbc-83fd-60cb6b65897b",
   "metadata": {},
   "outputs": [
    {
     "name": "stdout",
     "output_type": "stream",
     "text": [
      "Income/Expense    Expense     Income  Transfer-Out\n",
      "Month                                             \n",
      "2017-10          45532.09    6000.00     176000.00\n",
      "2017-11          64364.00  143155.00      29120.33\n",
      "2017-12          46805.00   82321.00     548108.96\n",
      "2018-01         142080.90  292938.00      94097.14\n",
      "2018-02          26218.00   64738.00      91704.00\n",
      "2018-03          23396.75   69343.50      23042.88\n",
      "2018-04          48339.58   65824.15      25500.00\n",
      "2018-05          40670.00   69238.00      36543.00\n",
      "2018-06          38161.02   68551.00      36549.59\n",
      "2018-07          67738.36   77267.50      25500.00\n",
      "2018-08          21305.65   71735.75      36543.00\n",
      "2018-09           4724.00    3500.00      25500.00\n"
     ]
    }
   ],
   "source": [
    "# View last 12 months\n",
    "print(monthly_summary.tail(12))"
   ]
  },
  {
   "cell_type": "code",
   "execution_count": 110,
   "id": "a94d71b9-a4da-40ba-b6e6-c6d43dae76dd",
   "metadata": {},
   "outputs": [],
   "source": [
    "expense_df = df[df['Income/Expense']=='Expense']"
   ]
  },
  {
   "cell_type": "code",
   "execution_count": 114,
   "id": "7a55d638-bfb0-44f3-b0c2-f4e5d860d986",
   "metadata": {},
   "outputs": [],
   "source": [
    "category_summery = df.groupby('Category')['Amount'].sum().sort_values(ascending=False)"
   ]
  },
  {
   "cell_type": "code",
   "execution_count": 121,
   "id": "e5a4b9b7-e0b4-4f0f-844e-4f350e8ad74c",
   "metadata": {},
   "outputs": [
    {
     "name": "stdout",
     "output_type": "stream",
     "text": [
      "Category\n",
      "Salary                   2526576.45\n",
      "Money transfer            606528.90\n",
      "Fixed Deposit             450000.00\n",
      "Maturity amount           382792.00\n",
      "Public Provident Fund     345000.00\n",
      "Share Market              276161.00\n",
      "Saving Bank account 1     274798.57\n",
      "Investment                271858.00\n",
      "Other                     170467.28\n",
      "Transportation            169053.78\n",
      "Name: Amount, dtype: float64\n"
     ]
    }
   ],
   "source": [
    "print(category_summery.head(10))"
   ]
  },
  {
   "cell_type": "code",
   "execution_count": 127,
   "id": "87c1759d-188c-45bc-8253-95632336e920",
   "metadata": {},
   "outputs": [
    {
     "data": {
      "image/png": "[encoded data removed]",
      "text/plain": [
       "<Figure size 1000x600 with 1 Axes>"
      ]
     },
     "metadata": {},
     "output_type": "display_data"
    }
   ],
   "source": [
    "top_categories = category_summery.head(10)\n",
    "plt.figure(figsize=(10,6))\n",
    "top_categories.plot(kind = 'barh', color='tomato')\n",
    "plt.title('Top 10 Expense Category')\n",
    "plt.xlabel('Total Amount')\n",
    "plt.gca().invert_yaxis()\n",
    "plt.tight_layout()\n",
    "plt.show()"
   ]
  },
  {
   "cell_type": "code",
   "execution_count": 129,
   "id": "a8a9d083-d36f-4927-a598-67cbaa6b7658",
   "metadata": {},
   "outputs": [
    {
     "name": "stdout",
     "output_type": "stream",
     "text": [
      "Mode\n",
      "Saving Bank account 1    1577728.46\n",
      "Credit Card               205254.01\n",
      "Cash                      173431.00\n",
      "Debit Card                   942.36\n",
      "Saving Bank account 2         34.70\n",
      "Name: Amount, dtype: float64\n"
     ]
    }
   ],
   "source": [
    "expense_df = df[df['Income/Expense']=='Expense']\n",
    "mode_summary = expense_df.groupby('Mode')['Amount'].sum().sort_values(ascending=False)\n",
    "print(mode_summary.head(10))"
   ]
  },
  {
   "cell_type": "code",
   "execution_count": 133,
   "id": "52008571-cc21-4ab3-b7d7-632c74bfb136",
   "metadata": {},
   "outputs": [
    {
     "data": {
      "image/png": "[encoded data removed]",
      "text/plain": [
       "<Figure size 1000x600 with 1 Axes>"
      ]
     },
     "metadata": {},
     "output_type": "display_data"
    }
   ],
   "source": [
    "top_mode = mode_summary.head(10) \n",
    "plt.figure(figsize = (10,6))\n",
    "top_mode.plot(kind = 'bar', color ='skyblue')\n",
    "plt.title('Top payment Modes(by total expense)')\n",
    "plt.ylabel('Total Amount')\n",
    "plt.xlabel('Payment Mode')\n",
    "plt.xticks(rotation = 45)\n",
    "plt.tight_layout()\n",
    "plt.show()"
   ]
  },
  {
   "cell_type": "code",
   "execution_count": 135,
   "id": "97d510ff-5a0a-457b-93b8-c769edf1b748",
   "metadata": {},
   "outputs": [
    {
     "name": "stdout",
     "output_type": "stream",
     "text": [
      "Subcategory\n",
      "unknown                  701672.28\n",
      "Home                     204505.90\n",
      "Public Provident Fund    150000.00\n",
      "Bike                      94593.00\n",
      "Appliances                82081.00\n",
      "Mutual fund               66000.00\n",
      "Edtech Course             63733.42\n",
      "Trip                      63300.00\n",
      "Pocket money              58195.00\n",
      "Kirana                    39147.58\n",
      "Name: Amount, dtype: float64\n"
     ]
    }
   ],
   "source": [
    "expense_df = df[df['Income/Expense']== 'Expense']\n",
    "subcategory_summary = expense_df.groupby('Subcategory')['Amount'].sum().sort_values(ascending= False)\n",
    "print(subcategory_summary.head(10))"
   ]
  },
  {
   "cell_type": "code",
   "execution_count": 139,
   "id": "1efe473f-3cbb-4f2e-a2ab-c7a20433597c",
   "metadata": {},
   "outputs": [],
   "source": [
    "top_subcategory= subcategory_summary.head(15)"
   ]
  },
  {
   "cell_type": "code",
   "execution_count": 143,
   "id": "8c225e21-5222-49e1-9dd5-5de855eb0004",
   "metadata": {},
   "outputs": [
    {
     "data": {
      "image/png": "[encoded data removed]",
      "text/plain": [
       "<Figure size 1200x600 with 1 Axes>"
      ]
     },
     "metadata": {},
     "output_type": "display_data"
    }
   ],
   "source": [
    "plt.figure(figsize=(12,6))\n",
    "top_subcategory.plot(kind='bar', color = 'mediumseagreen')\n",
    "plt.title('Top 15 Expense Subcategory')\n",
    "plt.ylabel('Total Amount')\n",
    "plt.xlabel('Subcategory')\n",
    "plt.xticks(rotation=45,ha='right')\n",
    "plt.tight_layout()\n",
    "plt.show()"
   ]
  },
  {
   "cell_type": "code",
   "execution_count": null,
   "id": "a6087703-9491-40ec-a814-2a8ac804de8f",
   "metadata": {},
   "outputs": [],
   "source": []
  }
 ],
 "metadata": {
  "kernelspec": {
   "display_name": "Python [conda env:base] *",
   "language": "python",
   "name": "conda-base-py"
  },
  "language_info": {
   "codemirror_mode": {
    "name": "ipython",
    "version": 3
   },
   "file_extension": ".py",
   "mimetype": "text/x-python",
   "name": "python",
   "nbconvert_exporter": "python",
   "pygments_lexer": "ipython3",
   "version": "3.12.7"
  }
 },
 "nbformat": 4,
 "nbformat_minor": 5
}
